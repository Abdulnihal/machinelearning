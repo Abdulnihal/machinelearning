{
  "nbformat": 4,
  "nbformat_minor": 0,
  "metadata": {
    "colab": {
      "name": "machine learning.ipynb",
      "provenance": [],
      "collapsed_sections": [],
      "toc_visible": true,
      "mount_file_id": "1e8Gu7uQcyHzveZBwfYiNHO9rhZMoVt5b",
      "authorship_tag": "ABX9TyOwzYcVsapPjPlPtN/h28OD",
      "include_colab_link": true
    },
    "kernelspec": {
      "name": "python3",
      "display_name": "Python 3"
    },
    "language_info": {
      "name": "python"
    }
  },
  "cells": [
    {
      "cell_type": "markdown",
      "metadata": {
        "id": "view-in-github",
        "colab_type": "text"
      },
      "source": [
        "<a href=\"https://colab.research.google.com/github/Abdulnihal/machinelearning/blob/main/machine_learning.ipynb\" target=\"_parent\"><img src=\"https://colab.research.google.com/assets/colab-badge.svg\" alt=\"Open In Colab\"/></a>"
      ]
    },
    {
      "cell_type": "code",
      "metadata": {
        "id": "3P6IOGG_eQYu"
      },
      "source": [
        ""
      ],
      "execution_count": null,
      "outputs": []
    },
    {
      "cell_type": "code",
      "metadata": {
        "colab": {
          "base_uri": "https://localhost:8080/"
        },
        "id": "UNxnP69be44X",
        "outputId": "68f25b70-a4e9-44b1-b78d-e688ac859428"
      },
      "source": [
        "from google.colab import drive\n",
        "drive.mount('/gdrive')"
      ],
      "execution_count": 1,
      "outputs": [
        {
          "output_type": "stream",
          "text": [
            "Mounted at /gdrive\n"
          ],
          "name": "stdout"
        }
      ]
    },
    {
      "cell_type": "code",
      "metadata": {
        "colab": {
          "base_uri": "https://localhost:8080/"
        },
        "id": "-N3b6vote45R",
        "outputId": "09c086c1-6eac-434a-ca17-1214fe77393d"
      },
      "source": [
        "with open('/gdrive/My Drive/foo.txt', 'w') as f:\n",
        "  f.write('Hello Google Drive!')\n",
        "!cat '/gdrive/My Drive/foo.txt'"
      ],
      "execution_count": 2,
      "outputs": [
        {
          "output_type": "stream",
          "text": [
            "Hello Google Drive!"
          ],
          "name": "stdout"
        }
      ]
    },
    {
      "cell_type": "code",
      "metadata": {
        "id": "WOmD6IBSfU-U"
      },
      "source": [
        "\n",
        "import glob\n",
        "dataset=glob.glob(\"drive/My Drive/content/drive/MyDrive/dataset/images\")\n"
      ],
      "execution_count": 18,
      "outputs": []
    },
    {
      "cell_type": "code",
      "metadata": {
        "id": "kTriHilhl6AP"
      },
      "source": [
        "import os\n",
        "import numpy as np\n",
        "import pandas as pd\n",
        "import matplotlib.pyplot as plt\n",
        "import seaborn as sns\n",
        "\n",
        "import warnings\n",
        "warnings.filterwarnings('ignore')"
      ],
      "execution_count": 21,
      "outputs": []
    },
    {
      "cell_type": "code",
      "metadata": {
        "id": "ob2X2KHSmCyh"
      },
      "source": [
        ""
      ],
      "execution_count": 33,
      "outputs": []
    },
    {
      "cell_type": "code",
      "metadata": {
        "id": "i2MjVNGPn4a7"
      },
      "source": [
        "train_dir = '/content/drive/MyDrive/dataset/images/Train'\n",
        "test_dir = '/content/drive/MyDrive/dataset/images/Test'"
      ],
      "execution_count": 60,
      "outputs": []
    },
    {
      "cell_type": "code",
      "metadata": {
        "colab": {
          "base_uri": "https://localhost:8080/"
        },
        "id": "MHqsVDTkoXjj",
        "outputId": "831f29e2-6706-4e4f-d287-4abeab1b60ac"
      },
      "source": [
        "train_size = len(os.listdir('/content/drive/MyDrive/dataset/images/Train'))\n",
        "test_size = len(os.listdir('/content/drive/MyDrive/dataset/images/Test'))\n",
        "\n",
        "train_size,test_size"
      ],
      "execution_count": 70,
      "outputs": [
        {
          "output_type": "execute_result",
          "data": {
            "text/plain": [
              "(576, 44)"
            ]
          },
          "metadata": {
            "tags": []
          },
          "execution_count": 70
        }
      ]
    },
    {
      "cell_type": "code",
      "metadata": {
        "colab": {
          "base_uri": "https://localhost:8080/",
          "height": 204
        },
        "id": "K8QG-PLtyHYm",
        "outputId": "28e492a2-8c82-4fcb-d061-482ad0c00894"
      },
      "source": [
        "df = pd.read_csv('/content/drive/MyDrive/dataset/players.csv')\n",
        "df.head()"
      ],
      "execution_count": 71,
      "outputs": [
        {
          "output_type": "execute_result",
          "data": {
            "text/html": [
              "<div>\n",
              "<style scoped>\n",
              "    .dataframe tbody tr th:only-of-type {\n",
              "        vertical-align: middle;\n",
              "    }\n",
              "\n",
              "    .dataframe tbody tr th {\n",
              "        vertical-align: top;\n",
              "    }\n",
              "\n",
              "    .dataframe thead th {\n",
              "        text-align: right;\n",
              "    }\n",
              "</style>\n",
              "<table border=\"1\" class=\"dataframe\">\n",
              "  <thead>\n",
              "    <tr style=\"text-align: right;\">\n",
              "      <th></th>\n",
              "      <th>Unnamed: 0</th>\n",
              "      <th>image</th>\n",
              "      <th>player</th>\n",
              "    </tr>\n",
              "  </thead>\n",
              "  <tbody>\n",
              "    <tr>\n",
              "      <th>0</th>\n",
              "      <td>0</td>\n",
              "      <td>eda97f557b.jpg</td>\n",
              "      <td>virat_kohli</td>\n",
              "    </tr>\n",
              "    <tr>\n",
              "      <th>1</th>\n",
              "      <td>1</td>\n",
              "      <td>273ed0f2b9.jpg</td>\n",
              "      <td>hardik_pandya</td>\n",
              "    </tr>\n",
              "    <tr>\n",
              "      <th>2</th>\n",
              "      <td>2</td>\n",
              "      <td>77076b6409.jpg</td>\n",
              "      <td>jasprit_bumrah</td>\n",
              "    </tr>\n",
              "    <tr>\n",
              "      <th>3</th>\n",
              "      <td>3</td>\n",
              "      <td>f028e2dcf8.jpg</td>\n",
              "      <td>mohammed_shami</td>\n",
              "    </tr>\n",
              "    <tr>\n",
              "      <th>4</th>\n",
              "      <td>4</td>\n",
              "      <td>3364f861e1.jpg</td>\n",
              "      <td>kedar_jadhav</td>\n",
              "    </tr>\n",
              "  </tbody>\n",
              "</table>\n",
              "</div>"
            ],
            "text/plain": [
              "   Unnamed: 0           image          player\n",
              "0           0  eda97f557b.jpg     virat_kohli\n",
              "1           1  273ed0f2b9.jpg   hardik_pandya\n",
              "2           2  77076b6409.jpg  jasprit_bumrah\n",
              "3           3  f028e2dcf8.jpg  mohammed_shami\n",
              "4           4  3364f861e1.jpg    kedar_jadhav"
            ]
          },
          "metadata": {
            "tags": []
          },
          "execution_count": 71
        }
      ]
    },
    {
      "cell_type": "code",
      "metadata": {
        "colab": {
          "base_uri": "https://localhost:8080/"
        },
        "id": "BSGXoM-hyWaD",
        "outputId": "5c2ee6a3-f7f4-4c18-8ca6-56fec55c487e"
      },
      "source": [
        "p_names = sorted(df['player'].unique())\n",
        "n_classes = len(p_names)\n",
        "print(n_classes)\n",
        "p_names"
      ],
      "execution_count": 72,
      "outputs": [
        {
          "output_type": "stream",
          "text": [
            "15\n"
          ],
          "name": "stdout"
        },
        {
          "output_type": "execute_result",
          "data": {
            "text/plain": [
              "['bhuvneshwar_kumar',\n",
              " 'dinesh_karthik',\n",
              " 'hardik_pandya',\n",
              " 'jasprit_bumrah',\n",
              " 'k._l._rahul',\n",
              " 'kedar_jadhav',\n",
              " 'kuldeep_yadav',\n",
              " 'mohammed_shami',\n",
              " 'ms_dhoni',\n",
              " 'ravindra_jadeja',\n",
              " 'rohit_sharma',\n",
              " 'shikhar_dhawan',\n",
              " 'vijay_shankar',\n",
              " 'virat_kohli',\n",
              " 'yuzvendra_chahal']"
            ]
          },
          "metadata": {
            "tags": []
          },
          "execution_count": 72
        }
      ]
    },
    {
      "cell_type": "code",
      "metadata": {
        "id": "1NgpV8puymga"
      },
      "source": [
        "#Converting classes to numbers\n",
        "class_to_num = dict(zip(p_names,range(n_classes)))"
      ],
      "execution_count": 73,
      "outputs": []
    },
    {
      "cell_type": "code",
      "metadata": {
        "id": "1cWFkUrI1qVX"
      },
      "source": [
        "#Function to load and convert images to array\n",
        "from keras.preprocessing.image import load_img\n",
        "from keras.utils import to_categorical\n",
        "\n",
        "def images_to_array(data_dir,df,image_size):\n",
        "    image_names = df['image']\n",
        "    image_labels = df['player']\n",
        "    data_size = len(image_names)\n",
        "    \n",
        "    X = np.zeros([data_size,image_size[0],image_size[1],image_size[2]],dtype = np.uint8)\n",
        "    y = np.zeros([data_size,1],dtype = np.uint8)\n",
        "    \n",
        "    for i in range(data_size):\n",
        "        img_name = image_names[i]\n",
        "        img_dir = os.path.join(data_dir,img_name)\n",
        "        img_pixels = load_img(img_dir,target_size=image_size)\n",
        "        X[i] = img_pixels\n",
        "        y[i] = class_to_num[image_labels[i]]\n",
        "        \n",
        "    y = to_categorical(y)\n",
        "    \n",
        "    ind = np.random.permutation(data_size)\n",
        "    X = X[ind]\n",
        "    y = y[ind]\n",
        "    print('Ouptut Data Size: ', X.shape)\n",
        "    print('Ouptut Label Size: ', y.shape)\n",
        "    return X, y   "
      ],
      "execution_count": 74,
      "outputs": []
    },
    {
      "cell_type": "code",
      "metadata": {
        "id": "lpmWTtiG5PtK"
      },
      "source": [
        "#Selecting image size according to pretrained models\n",
        "img_size = (299,299,3)"
      ],
      "execution_count": 75,
      "outputs": []
    },
    {
      "cell_type": "code",
      "metadata": {
        "colab": {
          "base_uri": "https://localhost:8080/"
        },
        "id": "hSb5EZHI5WpZ",
        "outputId": "07a6abcb-b9d3-4a1b-eda6-253c5fd64158"
      },
      "source": [
        "X, y = images_to_array(train_dir,df,img_size)"
      ],
      "execution_count": 76,
      "outputs": [
        {
          "output_type": "stream",
          "text": [
            "Ouptut Data Size:  (576, 299, 299, 3)\n",
            "Ouptut Label Size:  (576, 15)\n"
          ],
          "name": "stdout"
        }
      ]
    },
    {
      "cell_type": "code",
      "metadata": {
        "id": "ZcCNisng9Ha3"
      },
      "source": [
        "#Function to extract features from images\n",
        "from keras.models import Model\n",
        "from keras.layers import BatchNormalization, Dense, GlobalAveragePooling2D,Lambda, Dropout, InputLayer, Input\n",
        "\n",
        "def get_features(model_name, data_preprocessor, input_size, data):\n",
        "    #Prepare pipeline.\n",
        "    input_layer = Input(input_size)\n",
        "    preprocessor = Lambda(data_preprocessor)(input_layer)\n",
        "    base_model = model_name(weights='imagenet', include_top=False,\n",
        "                            input_shape=input_size)(preprocessor)\n",
        "    avg = GlobalAveragePooling2D()(base_model)\n",
        "    feature_extractor = Model(inputs = input_layer, outputs = avg)\n",
        "    #Extract feature.\n",
        "    feature_maps = feature_extractor.predict(data, batch_size=32, verbose=1)\n",
        "    print('Feature maps shape: ', feature_maps.shape)\n",
        "    return feature_maps"
      ],
      "execution_count": 77,
      "outputs": []
    },
    {
      "cell_type": "code",
      "metadata": {
        "colab": {
          "base_uri": "https://localhost:8080/"
        },
        "id": "oAT2Z4Nf9SrC",
        "outputId": "72c2caad-68de-4f7b-b1c2-5ee6a777f11d"
      },
      "source": [
        "#Extracting features using InceptionV3\n",
        "from keras.applications.inception_v3 import InceptionV3, preprocess_input\n",
        "inception_preprocessor = preprocess_input\n",
        "inception_features = get_features(InceptionV3,\n",
        "                                  inception_preprocessor,\n",
        "                                  img_size, X)"
      ],
      "execution_count": 78,
      "outputs": [
        {
          "output_type": "stream",
          "text": [
            "Downloading data from https://storage.googleapis.com/tensorflow/keras-applications/inception_v3/inception_v3_weights_tf_dim_ordering_tf_kernels_notop.h5\n",
            "87916544/87910968 [==============================] - 1s 0us/step\n",
            "18/18 [==============================] - 117s 6s/step\n",
            "Feature maps shape:  (576, 2048)\n"
          ],
          "name": "stdout"
        }
      ]
    },
    {
      "cell_type": "code",
      "metadata": {
        "colab": {
          "base_uri": "https://localhost:8080/"
        },
        "id": "tIZpAW2I-EYb",
        "outputId": "9cf2a060-08af-47fb-fa7e-88e78e491cf3"
      },
      "source": [
        "#Extracting features using Xception\n",
        "from keras.applications.xception import Xception, preprocess_input\n",
        "xception_preprocessor = preprocess_input\n",
        "xception_features = get_features(Xception,\n",
        "                                 xception_preprocessor,\n",
        "                                 img_size, X)"
      ],
      "execution_count": 79,
      "outputs": [
        {
          "output_type": "stream",
          "text": [
            "Downloading data from https://storage.googleapis.com/tensorflow/keras-applications/xception/xception_weights_tf_dim_ordering_tf_kernels_notop.h5\n",
            "83689472/83683744 [==============================] - 1s 0us/step\n",
            "18/18 [==============================] - 219s 12s/step\n",
            "Feature maps shape:  (576, 2048)\n"
          ],
          "name": "stdout"
        }
      ]
    },
    {
      "cell_type": "code",
      "metadata": {
        "colab": {
          "base_uri": "https://localhost:8080/"
        },
        "id": "fIzI4VM2_Ja6",
        "outputId": "ecca5daf-253c-437d-e7e4-28a212da25ec"
      },
      "source": [
        "#Extracting features using InceptionResnetV2\n",
        "from keras.applications.inception_resnet_v2 import InceptionResNetV2, preprocess_input\n",
        "inc_resnet_preprocessor = preprocess_input\n",
        "inc_resnet_features = get_features(InceptionResNetV2,\n",
        "                                   inc_resnet_preprocessor,\n",
        "                                   img_size, X)"
      ],
      "execution_count": 80,
      "outputs": [
        {
          "output_type": "stream",
          "text": [
            "Downloading data from https://storage.googleapis.com/tensorflow/keras-applications/inception_resnet_v2/inception_resnet_v2_weights_tf_dim_ordering_tf_kernels_notop.h5\n",
            "219062272/219055592 [==============================] - 4s 0us/step\n",
            "18/18 [==============================] - 273s 15s/step\n",
            "Feature maps shape:  (576, 1536)\n"
          ],
          "name": "stdout"
        }
      ]
    },
    {
      "cell_type": "code",
      "metadata": {
        "colab": {
          "base_uri": "https://localhost:8080/"
        },
        "id": "42EmY5vCAZNZ",
        "outputId": "98b621b5-09a9-4089-cb51-676934e8ff65"
      },
      "source": [
        "#concatinating features\n",
        "final_features = np.concatenate([inception_features,\n",
        "                                 xception_features,\n",
        "                                 inc_resnet_features,], axis=-1)\n",
        "print('Final feature maps shape', final_features.shape)"
      ],
      "execution_count": 81,
      "outputs": [
        {
          "output_type": "stream",
          "text": [
            "Final feature maps shape (576, 5632)\n"
          ],
          "name": "stdout"
        }
      ]
    },
    {
      "cell_type": "code",
      "metadata": {
        "id": "eIlKVv4RAfge"
      },
      "source": [
        "\n",
        "del X\n"
      ],
      "execution_count": null,
      "outputs": []
    },
    {
      "cell_type": "code",
      "metadata": {
        "id": "xXJIAaPbA0t9"
      },
      "source": [
        "#Callbacks\n",
        "from keras.callbacks import EarlyStopping\n",
        "EarlyStop_callback = EarlyStopping(monitor='val_loss', patience=10, restore_best_weights=True)\n",
        "my_callback=[EarlyStop_callback]\n"
      ],
      "execution_count": 84,
      "outputs": []
    },
    {
      "cell_type": "code",
      "metadata": {
        "id": "8SgUapq4A851"
      },
      "source": [
        "#Building Model\n",
        "from keras.models import Sequential\n",
        "model = Sequential()\n",
        "model.add(InputLayer(final_features.shape[1:]))\n",
        "model.add(Dropout(0.7))\n",
        "model.add(Dense(15,activation='softmax'))"
      ],
      "execution_count": 91,
      "outputs": []
    },
    {
      "cell_type": "code",
      "metadata": {
        "id": "game5SnVBB5W"
      },
      "source": [
        "#Compiling Model\n",
        "model.compile(optimizer='adam',\n",
        "            loss='categorical_crossentropy',\n",
        "            metrics=['accuracy'])"
      ],
      "execution_count": 92,
      "outputs": []
    },
    {
      "cell_type": "code",
      "metadata": {
        "colab": {
          "base_uri": "https://localhost:8080/"
        },
        "id": "QqyFy2LcBDo9",
        "outputId": "7c4316fe-2e1e-4289-fa8b-ca94cb815396"
      },
      "source": [
        "#Training Model\n",
        "history = model.fit(final_features,\n",
        "                  y,\n",
        "                  batch_size=32,\n",
        "                  epochs=50,\n",
        "                  validation_split=0.1,\n",
        "                  callbacks=my_callback)"
      ],
      "execution_count": 93,
      "outputs": [
        {
          "output_type": "stream",
          "text": [
            "Epoch 1/50\n",
            "17/17 [==============================] - 1s 21ms/step - loss: 3.2434 - accuracy: 0.0695 - val_loss: 2.4308 - val_accuracy: 0.1379\n",
            "Epoch 2/50\n",
            "17/17 [==============================] - 0s 8ms/step - loss: 2.5886 - accuracy: 0.2066 - val_loss: 2.2810 - val_accuracy: 0.2241\n",
            "Epoch 3/50\n",
            "17/17 [==============================] - 0s 8ms/step - loss: 2.2402 - accuracy: 0.2620 - val_loss: 2.2175 - val_accuracy: 0.2414\n",
            "Epoch 4/50\n",
            "17/17 [==============================] - 0s 8ms/step - loss: 2.0670 - accuracy: 0.3396 - val_loss: 2.1442 - val_accuracy: 0.3276\n",
            "Epoch 5/50\n",
            "17/17 [==============================] - 0s 8ms/step - loss: 1.8736 - accuracy: 0.3906 - val_loss: 2.1198 - val_accuracy: 0.3103\n",
            "Epoch 6/50\n",
            "17/17 [==============================] - 0s 7ms/step - loss: 1.6450 - accuracy: 0.4942 - val_loss: 2.1960 - val_accuracy: 0.2931\n",
            "Epoch 7/50\n",
            "17/17 [==============================] - 0s 7ms/step - loss: 1.5717 - accuracy: 0.5173 - val_loss: 2.1433 - val_accuracy: 0.3448\n",
            "Epoch 8/50\n",
            "17/17 [==============================] - 0s 8ms/step - loss: 1.5044 - accuracy: 0.5099 - val_loss: 2.0491 - val_accuracy: 0.3103\n",
            "Epoch 9/50\n",
            "17/17 [==============================] - 0s 8ms/step - loss: 1.3601 - accuracy: 0.5631 - val_loss: 2.0063 - val_accuracy: 0.3793\n",
            "Epoch 10/50\n",
            "17/17 [==============================] - 0s 8ms/step - loss: 1.1825 - accuracy: 0.6018 - val_loss: 1.9152 - val_accuracy: 0.4483\n",
            "Epoch 11/50\n",
            "17/17 [==============================] - 0s 8ms/step - loss: 1.2207 - accuracy: 0.6177 - val_loss: 1.8471 - val_accuracy: 0.3793\n",
            "Epoch 12/50\n",
            "17/17 [==============================] - 0s 9ms/step - loss: 1.0314 - accuracy: 0.7114 - val_loss: 1.9254 - val_accuracy: 0.3966\n",
            "Epoch 13/50\n",
            "17/17 [==============================] - 0s 8ms/step - loss: 1.0046 - accuracy: 0.6742 - val_loss: 1.9232 - val_accuracy: 0.3448\n",
            "Epoch 14/50\n",
            "17/17 [==============================] - 0s 8ms/step - loss: 0.9919 - accuracy: 0.7097 - val_loss: 1.7641 - val_accuracy: 0.3966\n",
            "Epoch 15/50\n",
            "17/17 [==============================] - 0s 8ms/step - loss: 0.9001 - accuracy: 0.7130 - val_loss: 1.8627 - val_accuracy: 0.4138\n",
            "Epoch 16/50\n",
            "17/17 [==============================] - 0s 8ms/step - loss: 0.8926 - accuracy: 0.7364 - val_loss: 1.8738 - val_accuracy: 0.4483\n",
            "Epoch 17/50\n",
            "17/17 [==============================] - 0s 9ms/step - loss: 0.7413 - accuracy: 0.8138 - val_loss: 1.7991 - val_accuracy: 0.4483\n",
            "Epoch 18/50\n",
            "17/17 [==============================] - 0s 8ms/step - loss: 0.8583 - accuracy: 0.7641 - val_loss: 1.7033 - val_accuracy: 0.5000\n",
            "Epoch 19/50\n",
            "17/17 [==============================] - 0s 9ms/step - loss: 0.7168 - accuracy: 0.8100 - val_loss: 1.9132 - val_accuracy: 0.3621\n",
            "Epoch 20/50\n",
            "17/17 [==============================] - 0s 9ms/step - loss: 0.6861 - accuracy: 0.8032 - val_loss: 1.7677 - val_accuracy: 0.4483\n",
            "Epoch 21/50\n",
            "17/17 [==============================] - 0s 8ms/step - loss: 0.6760 - accuracy: 0.8197 - val_loss: 1.7214 - val_accuracy: 0.4655\n",
            "Epoch 22/50\n",
            "17/17 [==============================] - 0s 8ms/step - loss: 0.6467 - accuracy: 0.8319 - val_loss: 1.7978 - val_accuracy: 0.4655\n",
            "Epoch 23/50\n",
            "17/17 [==============================] - 0s 8ms/step - loss: 0.6172 - accuracy: 0.8431 - val_loss: 1.7190 - val_accuracy: 0.4310\n",
            "Epoch 24/50\n",
            "17/17 [==============================] - 0s 8ms/step - loss: 0.5886 - accuracy: 0.8505 - val_loss: 1.7998 - val_accuracy: 0.5172\n",
            "Epoch 25/50\n",
            "17/17 [==============================] - 0s 9ms/step - loss: 0.5901 - accuracy: 0.8397 - val_loss: 1.7981 - val_accuracy: 0.4138\n",
            "Epoch 26/50\n",
            "17/17 [==============================] - 0s 10ms/step - loss: 0.5545 - accuracy: 0.8220 - val_loss: 1.7889 - val_accuracy: 0.4655\n",
            "Epoch 27/50\n",
            "17/17 [==============================] - 0s 8ms/step - loss: 0.5075 - accuracy: 0.8839 - val_loss: 1.7177 - val_accuracy: 0.4310\n",
            "Epoch 28/50\n",
            "17/17 [==============================] - 0s 8ms/step - loss: 0.4932 - accuracy: 0.8552 - val_loss: 1.6828 - val_accuracy: 0.5172\n",
            "Epoch 29/50\n",
            "17/17 [==============================] - 0s 8ms/step - loss: 0.5169 - accuracy: 0.8606 - val_loss: 1.6373 - val_accuracy: 0.4828\n",
            "Epoch 30/50\n",
            "17/17 [==============================] - 0s 8ms/step - loss: 0.4577 - accuracy: 0.8951 - val_loss: 1.7534 - val_accuracy: 0.4310\n",
            "Epoch 31/50\n",
            "17/17 [==============================] - 0s 8ms/step - loss: 0.4382 - accuracy: 0.8800 - val_loss: 1.6506 - val_accuracy: 0.5172\n",
            "Epoch 32/50\n",
            "17/17 [==============================] - 0s 8ms/step - loss: 0.4423 - accuracy: 0.8714 - val_loss: 1.6891 - val_accuracy: 0.4483\n",
            "Epoch 33/50\n",
            "17/17 [==============================] - 0s 9ms/step - loss: 0.4099 - accuracy: 0.8949 - val_loss: 1.6896 - val_accuracy: 0.5345\n",
            "Epoch 34/50\n",
            "17/17 [==============================] - 0s 8ms/step - loss: 0.4238 - accuracy: 0.8890 - val_loss: 1.7169 - val_accuracy: 0.4828\n",
            "Epoch 35/50\n",
            "17/17 [==============================] - 0s 9ms/step - loss: 0.4386 - accuracy: 0.8932 - val_loss: 1.6815 - val_accuracy: 0.5000\n",
            "Epoch 36/50\n",
            "17/17 [==============================] - 0s 8ms/step - loss: 0.3877 - accuracy: 0.9044 - val_loss: 1.6553 - val_accuracy: 0.4483\n",
            "Epoch 37/50\n",
            "17/17 [==============================] - 0s 8ms/step - loss: 0.3681 - accuracy: 0.9109 - val_loss: 1.7975 - val_accuracy: 0.4655\n",
            "Epoch 38/50\n",
            "17/17 [==============================] - 0s 8ms/step - loss: 0.3509 - accuracy: 0.9152 - val_loss: 1.7350 - val_accuracy: 0.5000\n",
            "Epoch 39/50\n",
            "17/17 [==============================] - 0s 8ms/step - loss: 0.4014 - accuracy: 0.8879 - val_loss: 1.6354 - val_accuracy: 0.5172\n",
            "Epoch 40/50\n",
            "17/17 [==============================] - 0s 9ms/step - loss: 0.3803 - accuracy: 0.8913 - val_loss: 1.6319 - val_accuracy: 0.5172\n",
            "Epoch 41/50\n",
            "17/17 [==============================] - 0s 9ms/step - loss: 0.3755 - accuracy: 0.9072 - val_loss: 1.6659 - val_accuracy: 0.4828\n",
            "Epoch 42/50\n",
            "17/17 [==============================] - 0s 8ms/step - loss: 0.3159 - accuracy: 0.9269 - val_loss: 1.6775 - val_accuracy: 0.5345\n",
            "Epoch 43/50\n",
            "17/17 [==============================] - 0s 8ms/step - loss: 0.3409 - accuracy: 0.9247 - val_loss: 1.7103 - val_accuracy: 0.5172\n",
            "Epoch 44/50\n",
            "17/17 [==============================] - 0s 8ms/step - loss: 0.3654 - accuracy: 0.9122 - val_loss: 1.6707 - val_accuracy: 0.5000\n",
            "Epoch 45/50\n",
            "17/17 [==============================] - 0s 8ms/step - loss: 0.3088 - accuracy: 0.9316 - val_loss: 1.7561 - val_accuracy: 0.5000\n",
            "Epoch 46/50\n",
            "17/17 [==============================] - 0s 8ms/step - loss: 0.3204 - accuracy: 0.9143 - val_loss: 1.6774 - val_accuracy: 0.4655\n",
            "Epoch 47/50\n",
            "17/17 [==============================] - 0s 9ms/step - loss: 0.3069 - accuracy: 0.9240 - val_loss: 1.7275 - val_accuracy: 0.4655\n",
            "Epoch 48/50\n",
            "17/17 [==============================] - 0s 9ms/step - loss: 0.2689 - accuracy: 0.9300 - val_loss: 1.6534 - val_accuracy: 0.4655\n",
            "Epoch 49/50\n",
            "17/17 [==============================] - 0s 9ms/step - loss: 0.2421 - accuracy: 0.9457 - val_loss: 1.7388 - val_accuracy: 0.4655\n",
            "Epoch 50/50\n",
            "17/17 [==============================] - 0s 8ms/step - loss: 0.2582 - accuracy: 0.9407 - val_loss: 1.6782 - val_accuracy: 0.4655\n"
          ],
          "name": "stdout"
        }
      ]
    },
    {
      "cell_type": "code",
      "metadata": {
        "id": "ZwtMwZmZDxNr"
      },
      "source": [
        "#Converting test images to array\n",
        "def images_to_array2(data_dir,df, img_size):\n",
        "    images_names = df['image']\n",
        "    data_size = len(images_names)\n",
        "    X = np.zeros([data_size, img_size[0], img_size[1], 3], dtype=np.uint8)\n",
        "    \n",
        "    for i in range(data_size):\n",
        "        image_name = images_names[i]\n",
        "        img_dir = os.path.join(data_dir, image_name)\n",
        "        img_pixels = load_img(img_dir, target_size=img_size)\n",
        "        X[i] = img_pixels\n",
        "        \n",
        "    print('Ouptut Data Size: ', X.shape)\n",
        "    return X"
      ],
      "execution_count": 100,
      "outputs": []
    },
    {
      "cell_type": "code",
      "metadata": {
        "id": "n_iNteQtNvTs"
      },
      "source": [
        "sample_df = pd.read_csv('/content/drive/MyDrive/dataset/players.csv')"
      ],
      "execution_count": 102,
      "outputs": []
    },
    {
      "cell_type": "code",
      "metadata": {
        "colab": {
          "base_uri": "https://localhost:8080/"
        },
        "id": "ckw1YTDRN_jk",
        "outputId": "a9c505f0-5cfb-4a34-80d9-9618b7918904"
      },
      "source": [
        "test_data = images_to_array2(train_dir, sample_df, img_size)"
      ],
      "execution_count": 104,
      "outputs": [
        {
          "output_type": "stream",
          "text": [
            "Ouptut Data Size:  (576, 299, 299, 3)\n"
          ],
          "name": "stdout"
        }
      ]
    },
    {
      "cell_type": "code",
      "metadata": {
        "colab": {
          "base_uri": "https://localhost:8080/"
        },
        "id": "k3K0TZv5OX5U",
        "outputId": "f1ddbe86-b853-462b-8b14-6fc12b945893"
      },
      "source": [
        "#Extract test data features.\n",
        "inception_features = get_features(InceptionV3, inception_preprocessor, img_size, test_data)"
      ],
      "execution_count": 105,
      "outputs": [
        {
          "output_type": "stream",
          "text": [
            "18/18 [==============================] - 117s 6s/step\n",
            "Feature maps shape:  (576, 2048)\n"
          ],
          "name": "stdout"
        }
      ]
    },
    {
      "cell_type": "code",
      "metadata": {
        "colab": {
          "base_uri": "https://localhost:8080/"
        },
        "id": "2BpIHU_AO_v4",
        "outputId": "69e8bf26-4b6c-4cd9-ea56-dda91ad537fd"
      },
      "source": [
        "xception_features = get_features(Xception, xception_preprocessor, img_size, test_data)"
      ],
      "execution_count": 106,
      "outputs": [
        {
          "output_type": "stream",
          "text": [
            "18/18 [==============================] - 218s 12s/step\n",
            "Feature maps shape:  (576, 2048)\n"
          ],
          "name": "stdout"
        }
      ]
    },
    {
      "cell_type": "code",
      "metadata": {
        "colab": {
          "base_uri": "https://localhost:8080/"
        },
        "id": "0PamCWcaQgnz",
        "outputId": "d8a964b5-4465-4260-fe95-d21305a275a0"
      },
      "source": [
        "inc_resnet_features = get_features(InceptionResNetV2, inc_resnet_preprocessor, img_size, test_data)"
      ],
      "execution_count": 107,
      "outputs": [
        {
          "output_type": "stream",
          "text": [
            "18/18 [==============================] - 270s 15s/step\n",
            "Feature maps shape:  (576, 1536)\n"
          ],
          "name": "stdout"
        }
      ]
    },
    {
      "cell_type": "code",
      "metadata": {
        "colab": {
          "base_uri": "https://localhost:8080/"
        },
        "id": "5z6ASFCSSWkc",
        "outputId": "2aa502ea-9a75-414a-e7db-f54e5cf1aaf8"
      },
      "source": [
        "test_features = np.concatenate([inception_features,\n",
        "                                 xception_features,\n",
        "                                 inc_resnet_features],axis=-1)\n",
        "print('Final feature maps shape', test_features.shape)"
      ],
      "execution_count": 108,
      "outputs": [
        {
          "output_type": "stream",
          "text": [
            "Final feature maps shape (576, 5632)\n"
          ],
          "name": "stdout"
        }
      ]
    },
    {
      "cell_type": "code",
      "metadata": {
        "id": "XBhCbxkhUmTf"
      },
      "source": [
        "del test_data"
      ],
      "execution_count": 109,
      "outputs": []
    },
    {
      "cell_type": "code",
      "metadata": {
        "id": "UdMNKAD5U3y7"
      },
      "source": [
        "y_pred = model.predict(test_features, batch_size=32)"
      ],
      "execution_count": 110,
      "outputs": []
    },
    {
      "cell_type": "code",
      "metadata": {
        "id": "3OHjkMp3VWtE"
      },
      "source": [
        "for breed in dog_breeds:\n",
        "    sample_df[breed] = y_pred[:,class_to_num[breed]]\n",
        "sample_df.to_csv('pred.csv', index=None)"
      ],
      "execution_count": 113,
      "outputs": []
    },
    {
      "cell_type": "code",
      "metadata": {
        "colab": {
          "base_uri": "https://localhost:8080/",
          "height": 241
        },
        "id": "_cbrlutuVxw0",
        "outputId": "63178610-1c41-4c4e-9c0e-8a1efa161ae6"
      },
      "source": [
        "sample_df.head()"
      ],
      "execution_count": 114,
      "outputs": [
        {
          "output_type": "execute_result",
          "data": {
            "text/html": [
              "<div>\n",
              "<style scoped>\n",
              "    .dataframe tbody tr th:only-of-type {\n",
              "        vertical-align: middle;\n",
              "    }\n",
              "\n",
              "    .dataframe tbody tr th {\n",
              "        vertical-align: top;\n",
              "    }\n",
              "\n",
              "    .dataframe thead th {\n",
              "        text-align: right;\n",
              "    }\n",
              "</style>\n",
              "<table border=\"1\" class=\"dataframe\">\n",
              "  <thead>\n",
              "    <tr style=\"text-align: right;\">\n",
              "      <th></th>\n",
              "      <th>Unnamed: 0</th>\n",
              "      <th>image</th>\n",
              "      <th>player</th>\n",
              "      <th>bhuvneshwar_kumar</th>\n",
              "      <th>dinesh_karthik</th>\n",
              "      <th>hardik_pandya</th>\n",
              "      <th>jasprit_bumrah</th>\n",
              "      <th>k._l._rahul</th>\n",
              "      <th>kedar_jadhav</th>\n",
              "      <th>kuldeep_yadav</th>\n",
              "      <th>mohammed_shami</th>\n",
              "      <th>ms_dhoni</th>\n",
              "      <th>ravindra_jadeja</th>\n",
              "      <th>rohit_sharma</th>\n",
              "      <th>shikhar_dhawan</th>\n",
              "      <th>vijay_shankar</th>\n",
              "      <th>virat_kohli</th>\n",
              "      <th>yuzvendra_chahal</th>\n",
              "    </tr>\n",
              "  </thead>\n",
              "  <tbody>\n",
              "    <tr>\n",
              "      <th>0</th>\n",
              "      <td>0</td>\n",
              "      <td>eda97f557b.jpg</td>\n",
              "      <td>virat_kohli</td>\n",
              "      <td>0.006527</td>\n",
              "      <td>0.001383</td>\n",
              "      <td>0.007624</td>\n",
              "      <td>0.009866</td>\n",
              "      <td>0.005711</td>\n",
              "      <td>0.002508</td>\n",
              "      <td>0.000173</td>\n",
              "      <td>0.000070</td>\n",
              "      <td>0.001737</td>\n",
              "      <td>0.020512</td>\n",
              "      <td>0.042944</td>\n",
              "      <td>0.005162</td>\n",
              "      <td>0.002011</td>\n",
              "      <td>0.893128</td>\n",
              "      <td>0.000644</td>\n",
              "    </tr>\n",
              "    <tr>\n",
              "      <th>1</th>\n",
              "      <td>1</td>\n",
              "      <td>273ed0f2b9.jpg</td>\n",
              "      <td>hardik_pandya</td>\n",
              "      <td>0.000703</td>\n",
              "      <td>0.000077</td>\n",
              "      <td>0.971743</td>\n",
              "      <td>0.000700</td>\n",
              "      <td>0.000214</td>\n",
              "      <td>0.002223</td>\n",
              "      <td>0.000083</td>\n",
              "      <td>0.001126</td>\n",
              "      <td>0.000130</td>\n",
              "      <td>0.002858</td>\n",
              "      <td>0.001626</td>\n",
              "      <td>0.005756</td>\n",
              "      <td>0.000815</td>\n",
              "      <td>0.011843</td>\n",
              "      <td>0.000104</td>\n",
              "    </tr>\n",
              "    <tr>\n",
              "      <th>2</th>\n",
              "      <td>2</td>\n",
              "      <td>77076b6409.jpg</td>\n",
              "      <td>jasprit_bumrah</td>\n",
              "      <td>0.000602</td>\n",
              "      <td>0.002045</td>\n",
              "      <td>0.001274</td>\n",
              "      <td>0.956341</td>\n",
              "      <td>0.002898</td>\n",
              "      <td>0.009200</td>\n",
              "      <td>0.001502</td>\n",
              "      <td>0.000826</td>\n",
              "      <td>0.000097</td>\n",
              "      <td>0.009110</td>\n",
              "      <td>0.000141</td>\n",
              "      <td>0.003315</td>\n",
              "      <td>0.007888</td>\n",
              "      <td>0.003468</td>\n",
              "      <td>0.001294</td>\n",
              "    </tr>\n",
              "    <tr>\n",
              "      <th>3</th>\n",
              "      <td>3</td>\n",
              "      <td>f028e2dcf8.jpg</td>\n",
              "      <td>mohammed_shami</td>\n",
              "      <td>0.001160</td>\n",
              "      <td>0.000068</td>\n",
              "      <td>0.006706</td>\n",
              "      <td>0.001743</td>\n",
              "      <td>0.001677</td>\n",
              "      <td>0.000136</td>\n",
              "      <td>0.000171</td>\n",
              "      <td>0.963331</td>\n",
              "      <td>0.000176</td>\n",
              "      <td>0.012029</td>\n",
              "      <td>0.000071</td>\n",
              "      <td>0.000032</td>\n",
              "      <td>0.005694</td>\n",
              "      <td>0.006208</td>\n",
              "      <td>0.000798</td>\n",
              "    </tr>\n",
              "    <tr>\n",
              "      <th>4</th>\n",
              "      <td>4</td>\n",
              "      <td>3364f861e1.jpg</td>\n",
              "      <td>kedar_jadhav</td>\n",
              "      <td>0.000479</td>\n",
              "      <td>0.001950</td>\n",
              "      <td>0.000336</td>\n",
              "      <td>0.002765</td>\n",
              "      <td>0.000259</td>\n",
              "      <td>0.985152</td>\n",
              "      <td>0.000970</td>\n",
              "      <td>0.000204</td>\n",
              "      <td>0.000057</td>\n",
              "      <td>0.001093</td>\n",
              "      <td>0.000207</td>\n",
              "      <td>0.000726</td>\n",
              "      <td>0.003785</td>\n",
              "      <td>0.000099</td>\n",
              "      <td>0.001918</td>\n",
              "    </tr>\n",
              "  </tbody>\n",
              "</table>\n",
              "</div>"
            ],
            "text/plain": [
              "   Unnamed: 0           image  ... virat_kohli  yuzvendra_chahal\n",
              "0           0  eda97f557b.jpg  ...    0.893128          0.000644\n",
              "1           1  273ed0f2b9.jpg  ...    0.011843          0.000104\n",
              "2           2  77076b6409.jpg  ...    0.003468          0.001294\n",
              "3           3  f028e2dcf8.jpg  ...    0.006208          0.000798\n",
              "4           4  3364f861e1.jpg  ...    0.000099          0.001918\n",
              "\n",
              "[5 rows x 18 columns]"
            ]
          },
          "metadata": {
            "tags": []
          },
          "execution_count": 114
        }
      ]
    }
  ]
}